{
 "cells": [
  {
   "cell_type": "markdown",
   "metadata": {},
   "source": [
    "#### 1. The function below was intended to swap the items in positions i, j of a list myList.\n",
    "\n",
    "For example if myList is [\"a\", \"b\", \"c\", \"d\", \"e\", \"f\"], then swap(1, 4, myList) \n",
    "should change myList into [\"a\", \"e\", \"c\", \"d\", \"b\", \"f\"]. However does not work as \n",
    "intended."
   ]
  },
  {
   "cell_type": "code",
   "execution_count": null,
   "metadata": {},
   "outputs": [],
   "source": [
    "# (a)\n",
    "\n",
    "myList = ['a', 'b', 'c', 'd', 'e', 'f']\n",
    "\n",
    "def swap(i, j, myList): \n",
    "    temp = myList[i] # 'b'\n",
    "    myList.insert(i, myList[j]) # inserts 4th index ('e') at 1st index\n",
    "    myList.insert(j, temp) # inserts 'b' at the 4th index\n",
    "\n",
    "    # This function is inserting the integers that are being swapped into the correct indexes, however the original integers still exist, therefore each value is being pushed back instead of the two integers swapping. After the first value is inserted, 'd' is now the 4th index when 'b' is inserted in. \n",
    "\n",
    "swap(1, 4, myList) # myList = ['a', 'e', 'b', 'c', 'b', 'd', 'e', 'f']\n",
    "print(myList)"
   ]
  },
  {
   "cell_type": "code",
   "execution_count": 10,
   "metadata": {},
   "outputs": [
    {
     "name": "stdout",
     "output_type": "stream",
     "text": [
      "['a', 'e', 'c', 'd', 'b', 'f']\n"
     ]
    }
   ],
   "source": [
    "# (b)\n",
    "\n",
    "myList = ['a', 'b', 'c', 'd', 'e', 'f']\n",
    "\n",
    "def swap(i, j, myList): \n",
    "    temp = myList[i]\n",
    "    myList.insert(i, myList[j])\n",
    "    myList.pop(i + 1)\n",
    "    myList.insert(j, temp)\n",
    "    myList.pop(j + 1)\n",
    "\n",
    "swap(1, 4, myList) \n",
    "print(myList)"
   ]
  },
  {
   "cell_type": "markdown",
   "metadata": {},
   "source": [
    "(c)\n",
    "\n",
    "The time complexity of the function swap is O(n). This is because each time we insert a value, the following values are shifted back before we remove the previous index. As the length of the list increases, the execution time will increase."
   ]
  },
  {
   "cell_type": "markdown",
   "metadata": {},
   "source": [
    "#### 2. \n",
    "Write a function maxValue that takes two lists A and B, and returns the maximum number among both. Your code must use loops. For example: maxValue([0, 5, 2], [6, 4, 1]) should return 6  \n",
    "\n",
    "maxValue([1, 1, 1], [1, 0, 0, 4, 9, 110, 23]) should return 110"
   ]
  },
  {
   "cell_type": "code",
   "execution_count": 3,
   "metadata": {},
   "outputs": [
    {
     "name": "stdout",
     "output_type": "stream",
     "text": [
      "110\n"
     ]
    }
   ],
   "source": [
    "# (a)\n",
    "\n",
    "def maxValue(A, B):\n",
    "    max = 0\n",
    "    for i in A:\n",
    "        if i > max:\n",
    "            max = i\n",
    "\n",
    "    for j in B:\n",
    "        if j > max:\n",
    "            max = j\n",
    "                  \n",
    "    return max\n",
    "\n",
    "alist = [1, 1, 1]\n",
    "blist = [1, 0, 0, 4, 9, 110, 23]\n",
    "print(maxValue(alist, blist))"
   ]
  },
  {
   "cell_type": "markdown",
   "metadata": {},
   "source": [
    "(b)\n",
    "\n",
    "The time complexity of the maxValue function O(n + m) because the program first iterates through all of the values in list A which is O(n), and then moves to the next loop to iterate through all of the values in list B which is O(m). This means the overall time complexity for the function is O(n + m)."
   ]
  },
  {
   "cell_type": "markdown",
   "metadata": {},
   "source": [
    "#### 3. Consider the following code that is intended to remove all items in a list, named myList.\n",
    "\n",
    "(a) Assume myList contains: [\"toad\", \"coat\",\"worm\", \"maple\", \"coat\", \n",
    "\"garage\"]. What are the contents of the list after each iteration of the loop?\n",
    "\n",
    "(note: the variable i needs to be initialized before the while loop)\n",
    "\n",
    "Iteration 1: [\"coat\", \"worm\", \"maple\", \"coat\", \"garage\"]\n",
    "\n",
    "Iteration 2: [\"coat\", \"maple\", \"coat\", \"garage\"]\n",
    "\n",
    "Iteration 3: [\"coat\", \"maple\", \"garage\"]\n",
    "\n",
    "(b) Report the time complexity of the function in Big-O notation, using n to denote of the size of myList.\n",
    "\n",
    "The time complexity of the function is O(n^2). The while loop is O(n) and since n is incremented each time, it will decrease the length of the list. However, each iteration still calls pop(i) which takes O(n) time for each iteration. "
   ]
  },
  {
   "cell_type": "markdown",
   "metadata": {},
   "source": [
    "#### 4. Assume word is a string, and x is a character.\n",
    "\n",
    "(a) What will be returned by myfunc(“HELLO LEMOYNE”, ‘L’)?\n",
    "\n",
    "3\n",
    "\n",
    "(b) In one sentence describe what the function is computing in relation to word and x\n",
    "\n",
    "The function is creating a dictionary of all unique characters in a string, where the value of a character is incremented each time there is a duplicate of it.   \n",
    "\n",
    "(c) State the Big-O running time of the function in terms of n, the length of word.\n",
    "\n",
    "Checking to see if a dictionary contains an item takes O(1) time, where iterating for each character in the dictionary takes O(n) time. As the length of the word (n) increases, the execution time of the program increases. \n",
    "\n"
   ]
  },
  {
   "cell_type": "markdown",
   "metadata": {},
   "source": [
    "#### 5. State the Big-O running time of the following code snippets in terms of n?\n",
    "\n",
    "(a) O(n)\n",
    "\n",
    "(b) O(n)\n",
    "\n",
    "(c) O(n)\n",
    "\n",
    "(d) O(n)\n",
    "\n",
    "(e) O(log n)"
   ]
  },
  {
   "cell_type": "markdown",
   "metadata": {},
   "source": [
    "#### 6. For each function below let n be the size of the data structure given to the function. State the running time of each function in Big O notation in terms of n. Remember to consider the running time of the methods being called.\n",
    "\n",
    "(a) O(n)\n",
    "\n",
    "(b) O(n^2)\n",
    "\n",
    "(c) O(1)\n",
    "\n",
    "(d) O(1)\n"
   ]
  }
 ],
 "metadata": {
  "kernelspec": {
   "display_name": "Python 3",
   "language": "python",
   "name": "python3"
  },
  "language_info": {
   "codemirror_mode": {
    "name": "ipython",
    "version": 3
   },
   "file_extension": ".py",
   "mimetype": "text/x-python",
   "name": "python",
   "nbconvert_exporter": "python",
   "pygments_lexer": "ipython3",
   "version": "3.13.0"
  }
 },
 "nbformat": 4,
 "nbformat_minor": 2
}
