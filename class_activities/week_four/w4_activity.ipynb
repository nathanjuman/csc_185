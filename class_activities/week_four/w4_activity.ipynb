{
 "cells": [
  {
   "cell_type": "markdown",
   "metadata": {},
   "source": [
    "### 1: Express the running time of exercises 1-5 in 2.10 of your textbook using Big-O notation. In all cases assume that 𝑛 is the input.\n",
    "- E1: O(n^2)\n",
    "- E2: O(n)\n",
    "- E3: O(log n)\n",
    "- E4: O(n^3)\n",
    "- E5: O(n)\n"
   ]
  },
  {
   "cell_type": "markdown",
   "metadata": {},
   "source": [
    "### 2: List the running times from the exercises in order of fastest to slowest. \n",
    "\n",
    "Fastest to Slowest: [E3, E2, E5, E1, E4]"
   ]
  },
  {
   "cell_type": "markdown",
   "metadata": {},
   "source": [
    "### Bonus: \n",
    "Part A (O(log n)) results in 7 loop iterations, while Part B (O(n)) results in 50 iterations. \n",
    "\n",
    "This is because the value of ‘i’ is decreasing exponentially vs. decreasing linearly. For example, after the first loop iteration i is 50 for O(log n) whereas for O(n) i is 98 after the first loop iteration"
   ]
  },
  {
   "cell_type": "code",
   "execution_count": 11,
   "metadata": {},
   "outputs": [
    {
     "name": "stdout",
     "output_type": "stream",
     "text": [
      "7\n"
     ]
    }
   ],
   "source": [
    "# Code for Bonus Part A\n",
    "n = 100\n",
    "counter = 0\n",
    "i = n\n",
    "while i > 0:\n",
    "    k = 2 + 2\n",
    "    i = i // 2\n",
    "    counter += 1\n",
    "print(counter)"
   ]
  },
  {
   "cell_type": "code",
   "execution_count": 6,
   "metadata": {},
   "outputs": [
    {
     "name": "stdout",
     "output_type": "stream",
     "text": [
      "50\n"
     ]
    }
   ],
   "source": [
    "# Code for Bonus Part B\n",
    "n = 100\n",
    "counter = 0\n",
    "i = n\n",
    "while i > 0:\n",
    "    k = 2 + 2\n",
    "    i = i - 2\n",
    "    counter += 1\n",
    "print(counter)"
   ]
  },
  {
   "cell_type": "markdown",
   "metadata": {},
   "source": [
    "### 3: Write some code to explain why popping from end of a list O(1) but popping from a particular index 'pop(i)' is O(n).\n",
    "\n",
    "(a) [10, 20, 30, 40, 50, 60, 70, 80]\n",
    "\n",
    "(b) [10, 30, 40, 50, 60, 70, 80]\n",
    "\n",
    "(c) pop() is O(1) because as the list grows in size, the time required to pop() the end of the list remains constant (no iterations, we are retrieving a[-1] everytime). pop(i) is O(n) because wherever index the item is popped, all the following list items are shifted one position forward. "
   ]
  },
  {
   "cell_type": "code",
   "execution_count": 10,
   "metadata": {},
   "outputs": [
    {
     "name": "stdout",
     "output_type": "stream",
     "text": [
      "[10, 20, 30, 40, 50, 60, 70, 80]\n",
      "[10, 30, 40, 50, 60, 70, 80]\n"
     ]
    }
   ],
   "source": [
    "a = [10, 20, 30, 40, 50, 60, 70, 80, 90]\n",
    "\n",
    "#a\n",
    "a.pop()\n",
    "print(a)  # expect: [10, 20, 30, 40, 50, 60, 70, 80]\n",
    "\n",
    "#b\n",
    "a.pop(1)\n",
    "print(a) # expect: [10, 30, 40, 50, 60, 70, 80]"
   ]
  },
  {
   "cell_type": "markdown",
   "metadata": {},
   "source": [
    "### 4: Which of these algorithms is the more efficient way to build a list of n 100s?\n",
    "\n",
    "Algorithm A is O(n) time, while algorithm B is O(1) time. Therefore algorithm B is more efficient.\n",
    "\n",
    "Using the list insert function is O(n) because it is inserting the 100 at the 0 index for each iteration, which pushes the previous 100's back n amount of times. \n",
    "\n",
    "Using the list append function is O(1) because the 100 is appended to the end of the list for each iteration, which doesn't affect the values already in the list."
   ]
  },
  {
   "cell_type": "code",
   "execution_count": 12,
   "metadata": {},
   "outputs": [],
   "source": [
    "# A:\n",
    "mylist = []\n",
    "for i in range(n):\n",
    "    mylist.insert(0, 100)\n",
    "\n",
    "# B:\n",
    "mylist = []\n",
    "for i in range(n):\n",
    "    mylist.append(100)"
   ]
  },
  {
   "cell_type": "markdown",
   "metadata": {},
   "source": [
    "### 5: What is the Big-O running time of the following function that checks if a list contains the query?\n",
    "\n",
    "This function is O(n) running time because in the worse case scenario, it iterates through each item of the list to see if it contains the query. The running time will increase as the length of the list (n) increases."
   ]
  },
  {
   "cell_type": "code",
   "execution_count": null,
   "metadata": {},
   "outputs": [],
   "source": [
    "def find(lst, query):\n",
    "    for item in lst:\n",
    "        if item == query:\n",
    "            return True\n",
    "    return False"
   ]
  },
  {
   "cell_type": "markdown",
   "metadata": {},
   "source": [
    "### 6: Which algorithm is more efficient for finding the max value in a list with 𝑛 items?\n",
    "\n",
    "• Algorithm #1: Walk through list, look at each item and remember the largest\n",
    "value seen so far\n",
    "\n",
    "• Algorithm #2: Sort list in increasing order, return the last item. Assume sorting\n",
    "takes 𝑂(𝑛 𝑙𝑜𝑔 𝑛) time\n",
    "\n",
    "(a) Since algorithm #1 is O(n) it is more efficient than algorithm #2. In the worst case scenario, O(n log n) results with more operations than O(n).\n",
    "\n",
    "(b) Python's max() function is O(n) because it iterates through each value of n to find the max value. "
   ]
  }
 ],
 "metadata": {
  "kernelspec": {
   "display_name": "Python 3",
   "language": "python",
   "name": "python3"
  },
  "language_info": {
   "codemirror_mode": {
    "name": "ipython",
    "version": 3
   },
   "file_extension": ".py",
   "mimetype": "text/x-python",
   "name": "python",
   "nbconvert_exporter": "python",
   "pygments_lexer": "ipython3",
   "version": "3.13.0"
  }
 },
 "nbformat": 4,
 "nbformat_minor": 2
}
